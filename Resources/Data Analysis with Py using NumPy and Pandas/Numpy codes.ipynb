{
  "nbformat": 4,
  "nbformat_minor": 0,
  "metadata": {
    "colab": {
      "name": "Numpy.ipynb",
      "provenance": [],
      "collapsed_sections": [],
      "toc_visible": true
    },
    "kernelspec": {
      "name": "python3",
      "display_name": "Python 3"
    },
    "language_info": {
      "name": "python"
    }
  },
  "cells": [
    {
      "cell_type": "code",
      "metadata": {
        "id": "GTciBAV4e-dH"
      },
      "source": [
        "import numpy as np"
      ],
      "execution_count": null,
      "outputs": []
    },
    {
      "cell_type": "code",
      "metadata": {
        "id": "JAJKeU-Zy8cx"
      },
      "source": [
        "for i in range(10):\n",
        "  print(i)"
      ],
      "execution_count": null,
      "outputs": []
    },
    {
      "cell_type": "code",
      "metadata": {
        "id": "iJVhzw6ozQwV"
      },
      "source": [
        "L = [i for i in range(1000)]\n",
        "L"
      ],
      "execution_count": null,
      "outputs": []
    },
    {
      "cell_type": "code",
      "metadata": {
        "id": "5hlfKkfIqMmt"
      },
      "source": [
        "L = range(1000)\n",
        "L\n",
        "for i in L:\n",
        "  print(i)"
      ],
      "execution_count": null,
      "outputs": []
    },
    {
      "cell_type": "code",
      "metadata": {
        "id": "qNXE5ClYzzeB"
      },
      "source": [
        "# space\n",
        "import sys\n",
        "L = [i for i in range(1000)]\n",
        "sys.getsizeof(L)\n",
        "# sys.getsizeof(L)*len(L)\n",
        "\n",
        "N = np.arange(1000)\n",
        "# N.itemsize\n",
        "N.size * N.itemsize\n",
        "\n",
        "N+=2\n",
        "N"
      ],
      "execution_count": null,
      "outputs": []
    },
    {
      "cell_type": "code",
      "metadata": {
        "id": "7wTzNqMt75zo"
      },
      "source": [
        "L = [i for i in range(1000)]\n",
        "for i in range(len(L)):\n",
        "  L[i]+=2\n",
        "L"
      ],
      "execution_count": null,
      "outputs": []
    },
    {
      "cell_type": "code",
      "metadata": {
        "id": "kaEVvmUy6eX5"
      },
      "source": [
        "L = [i+2 for i in L]\n",
        "L"
      ],
      "execution_count": null,
      "outputs": []
    },
    {
      "cell_type": "code",
      "metadata": {
        "id": "xQfQfzvb8v44"
      },
      "source": [
        "L1 = [i for i in range(1000)]\n",
        "L2 = [i for i in range(1000,2000)]\n",
        "\n",
        "# print(list(zip(L1,L2)))\n",
        "\n",
        "# dot=0\n",
        "# for i,j in zip(L1,L2):\n",
        "#   dot+=i*j\n",
        "# dot\n",
        "\n",
        "N1 = np.arange(1000)\n",
        "N2 = np.arange(1000,2000)\n",
        "np.dot(N1,N2)"
      ],
      "execution_count": null,
      "outputs": []
    },
    {
      "cell_type": "code",
      "metadata": {
        "id": "u-1RW42X_ERO"
      },
      "source": [
        "# exception\n",
        "# L.append() vs N.append()"
      ],
      "execution_count": null,
      "outputs": []
    },
    {
      "cell_type": "code",
      "metadata": {
        "id": "RAZONhwJ5SRn"
      },
      "source": [
        ""
      ],
      "execution_count": null,
      "outputs": []
    }
  ]
}